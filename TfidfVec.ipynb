{
 "cells": [
  {
   "cell_type": "code",
   "execution_count": 1,
   "metadata": {},
   "outputs": [
    {
     "data": {
      "text/plain": [
       "<xml.etree.ElementTree.ElementTree at 0x2a2e5b24cf8>"
      ]
     },
     "execution_count": 1,
     "metadata": {},
     "output_type": "execute_result"
    }
   ],
   "source": [
    "from sklearn.feature_extraction.text import CountVectorizer, TfidfVectorizer, TfidfTransformer\n",
    "import xml.etree.ElementTree as ET\n",
    "transcript = ET.parse('E:/summer school/slide/Homework-NLP/AMMI-ASSSI-transcripts/59 retranscription.xml')\n",
    "transcript"
   ]
  },
  {
   "cell_type": "code",
   "execution_count": 2,
   "metadata": {},
   "outputs": [
    {
     "data": {
      "text/plain": [
       "<Element 'transcript' at 0x000002A2E5B53048>"
      ]
     },
     "execution_count": 2,
     "metadata": {},
     "output_type": "execute_result"
    }
   ],
   "source": [
    "root = transcript.getroot()\n",
    "root"
   ]
  },
  {
   "cell_type": "code",
   "execution_count": 3,
   "metadata": {},
   "outputs": [
    {
     "name": "stdout",
     "output_type": "stream",
     "text": [
      "<Element 'question' at 0x000002A2E5B53098> Alors pour commencer est ce que tu pourrais me présenter ta situation familiale durant l’enfance?\n",
      "<Element 'answer' at 0x000002A2F6396958> (tousse ) euh oui euh \n",
      "\t\t\n",
      "<Element 'question' at 0x000002A2F63D99F8> OK pis donc tes parents sont pas divorcés?\n",
      "<Element 'answer' at 0x000002A2F63D9A48> Non mes parents sont toujours mariés ensemble.\n",
      "<Element 'question' at 0x000002A2F63D9A98> OK pis euh donc t’es la plus jeune?\n",
      "<Element 'answer' at 0x000002A2F63D9AE8> Ouais\n",
      "<Element 'question' at 0x000002A2F63D9B38> Pis euh, de façon générale quel genre de relation t’avais avec ton frère quand t’étais p’tite?\n",
      "<Element 'answer' at 0x000002A2F63D9B88> Euh j’dirais pas mal inexistante (rire gêné) mon frère a toujours eu une aversion envers moi euh parc’qu’ma mère\n",
      "\t\t\n",
      "<Element 'question' at 0x000002A2F63D9C28> OK et euh, on en a parlé un p’tit peu tantôt mais quel genre de relation t’avais avec ta mère durant ton enfance?\n",
      "<Element 'answer' at 0x000002A2F63D9C78> \n",
      "\t\t\n",
      "<Element 'question' at 0x000002A2F63D9D18> D’accord pis est ce que tu as un exemple pour qualifier ta relation avec ta mère?\n",
      "<Element 'answer' at 0x000002A2F63D9D68> \n",
      "\t\t\n",
      "<Element 'question' at 0x000002A2F63D9E08> OK, pis quel genre de relation t’avais avec ton père durant ton enfance?\n",
      "<Element 'answer' at 0x000002A2F63D9E58> \n",
      "\t\t\n",
      "<Element 'question' at 0x000002A2F63D9EF8> Hum, pis encore là est ce que t’as un exemple pour qualifier votre relation?\n",
      "<Element 'answer' at 0x000002A2F63D9F48> \n",
      "\t\t\n",
      "<Element 'question' at 0x000002A2F63E4048> Pis comment tu t’sentais dans ces moments la?\n",
      "<Element 'answer' at 0x000002A2F63E4098> \n",
      "\t\t\n",
      "<Element 'question' at 0x000002A2F63E4138> OK et euh est ce qu’il y a eu des séparations avec tes parents qui t’ont marquées quand t’étais p’tite?\n",
      "<Element 'answer' at 0x000002A2F63E4188> \n",
      "\t\t\n",
      "<Element 'question' at 0x000002A2F63E4278> Ouai ou sinon ça peut être par exemple à la garderie euh… des séjours dans les camps de vacances… peu importe… \n",
      "<Element 'answer' at 0x000002A2F63E42C8> Euh bein j’me rappelle de une, j’étais supposée partir une fin de semaine à [lieu] avec euh, une de mes amies, j’avais p’tet euh 7 ans, c'était la 1ere fois que je partais une fin de semaine loin de mes parents et euh… au coin de rue j’ai tapé une crise, et j’ai pas voulu partir, j’ai… même la, la mère de mon amie il a fallu qu’elle vienne me r’conduire chez moi pis j’ai, j’ai jamais voulu partir.\n",
      "<Element 'question' at 0x000002A2F63E4368> OK pis la 1ere fois bin celle quand t’avais 7ans comment tu t’sentais à ce moment la?\n",
      "<Element 'answer' at 0x000002A2F63E43B8> J’me sentais perdue, j’avais un sentiment de pas savoir ou j’m’en allais euh (se racle la gorge) pas capable de m’controler surtout peur qu’il y ait quelque chose, que j’revois plus mes parents ou que eux me r’voient plus ou quelque chose comme ça, pis vu qu’c’etait quand même la première fois j'étais souvent partie avec mes pa… en vacances mais avec mes parents toujours , c’était la première fois que j’partais seule c’est vraiment, j’avais jamais connu, c’était la première fois qu’j’allais vers l’inconnu toute seule, d’habitude j’avais toujours quelqu’un qui v’nait avec moi donc là j’étais un peu, heu, déboussolée.\n",
      "<Element 'question' at 0x000002A2F63E4408> Hum, OK, pis est ce qu’il y a eu des séparations avec ton frère qui t’ont marqué?\n",
      "<Element 'answer' at 0x000002A2F63E4458> Heu… (silence)non, non , bin la seule ce serait quand mes parents ont décidés que mon frère était assez grand pour partir de la maison  (rires) pis euh, vu qu’j’ai jamais eu vraiment une bonne relation avec lui c’est juste que au lieu de le voir une fois par semaine bah je l’voyais pu !Donc c’est ça ! vu qu’j’ai jamais eu vraiment de relation avec lui, disons j’ai eu des amis mais avec lesquels j’étais plus proche que mon frère donc pour moi c’est quasiment un cousin qui passait de temps en temps et qui s’en allait après.Sinon c’est pas grave, sinon j’en ai pas eu vraiment.\n",
      "<Element 'question' at 0x000002A2F63E44A8> Et est ce qu’il t’est arrivé de perdre un proche durant ton enfance ?\n",
      "<Element 'answer' at 0x000002A2F63E44F8> Oui, j’ai perdu deux oncles et une tante.\n",
      "<Element 'question' at 0x000002A2F63E4548> OK, t’avais quel âge?\n",
      "<Element 'answer' at 0x000002A2F63E4598> Heu, ma tante c'était la première personne que j’ai perdu j’avais… 6, 7 ans à peu près, ça été quand même assez pénible ça a été la première fois que… j’ass… à part mes animaux de compagnie que j’assistais vraiment à une mort heu… de quelqu’un auquel j’tenais beaucoup c’était disons ma tante bonbon que tout le monde apprécie pis elle est partie quand même assez soudainement, c’est une mort d’un anévrisme donc euh ça a pris 5 minutes pis…elle est morte, c'était fini on était quand même assez troublé par ça. Mes deux autres oncles , les autres sont morts de cancer donc ça a été quand même assez long et pénible j’étais quand même un peu plus vieille donc on parle de 12 ans pour un et 15 ans pour l’autre donc j’avais quand même la notion de mort j’savais c’était quoi  mais ça a vraiment été ma tante que ça a été très pénible bah à supporter surtout de, d’essayer de comprendre que maintenant c’est fini on la voit plus, le pourquoi du comment je m’rappelle tout c’que tu dois comprendre.\n",
      "<Element 'question' at 0x000002A2F63E45E8> Hum pis ta tante c’était la sœur de ta mère ou d’ton père?\n",
      "<Element 'answer' at 0x000002A2F63E4638> C’était la sœur de mon père.\n",
      "<Element 'question' at 0x000002A2F63E4688> OK pis tes oncles c’étaient les frères de…\n",
      "<Element 'answer' at 0x000002A2F63E46D8> Heu , le.. heu , celui quand j'suis morte à 15 ans enfin que lui est mort quand j’avais 15 ans heu, c’était un frère à mon père l’autre c’était le mari d’une de ses sœurs. Mais on était quand même assez proche c’était heu, le mec de sa sœur c’était euh (se racle la gorge) une famille où on allait souvent. Dans ma famille, il y a deux familles, deux maisons où on va, celle de ma tante que son mari est décédé pi la mienne donc la famille s’est réunie.Mon oncle, mon autre oncle heu je l’appréciais beaucoup parce qu'il me montrait des trucs pour me défendre toute seule parce j'ai jamais été très grosse donc j’avais un peu de difficultés et lui était gardien de prison, il mesurait six, sept pieds donc il, j'l'appréciais beaucoup mais avec le temps mais il habitait en Gaspésie à la fin donc euh…p'tet 3 ans en Gaspésie j'le voyais plus mais je l’appréciais quand même beaucoup.\n",
      "<Element 'question' at 0x000002A2F63E4728> Comment t’as réagi ces deux fois la?\n",
      "<Element 'answer' at 0x000002A2F63E4778> Bin c’est sur que ça a quand même touché beaucoup mais vu qu’ils sont morts tous les deux d’un cancer euh le mari de ma tante, ça lui a pris deux ans avant qu’il meurt pis il souffrait quand même beaucoup, en dernier euh… les deux derniers mois il s’accrochait pour vivre donc on espérait presque qu’il parte pour qu’il arrête de souffrir, il était sous la morphine pis il avait mal c’était le cancer des intestins.Alors mon autre oncle lui quand il est mort bon bin vu que je voyais pas beaucoup il est mort en Gaspésie pis euh… euh… lui c’est plus l’après mort qui était difficile, ça a été de le voir dans son cercueil parce qu’on parle d’un homme qui faisait six, sept pieds, qui pesait 300 livres et qui a perdu 150 livres après son cancer c’est plutôt l’image, la dernière image que j’ai de lui dans son cercueil qui était assez éprouvante mais sa mort en temps que telle ça a duré 6 mois c’était un cancer du pancréas donc il souffrait quand même beaucoup donc on espérait presque qu’il parte le plus vite possible…\n",
      "<Element 'question' at 0x000002A2F63E47C8> Hum hum… Pis est c’qu’il y a eu d’autres décès de personnes importantes pour toi?\n",
      "<Element 'answer' at 0x000002A2F63E4818> Non à part mes animaux de compagnie j’ai plus eu d’autres décès, j’étais chanceuse quand même d’en avoir peu avec la grandeur de famille que j’ai, j’ai été chanceuse d’en avoir peu.\n",
      "<Element 'question' at 0x000002A2F63E4868> OK,  Et en règle générale comment se passait les disputes entre toi et tes parents quand t’étais p’tite?\n",
      "<Element 'answer' at 0x000002A2F63E48B8> \n",
      "\t\t\n",
      "<Element 'question' at 0x000002A2F63E49A8> OPis est ce que tu te souviendrais d’un exemple de dispute par rapport à toi?\n",
      "<Element 'answer' at 0x000002A2F63E49F8> \n",
      "\t\t\n",
      "<Element 'question' at 0x000002A2F63E4AE8> Pis euh dans les fois qu’est arrivé est ce que tu dirais qu’ca s'passerait dl’a même façon avec ta mère qu’avec ton père?\n",
      "<Element 'answer' at 0x000002A2F63E4B38> \n",
      "\t\t\n",
      "<Element 'question' at 0x000002A2F63E4C28> OK et euh… comment tu penses que tes parents te trouvaient par rapport à la discipline?\n",
      "<Element 'answer' at 0x000002A2F63E4C78> \n",
      "\t\t\n",
      "<Element 'question' at 0x000002A2F63E4D68> OK et euh, est ce qu’il y a eu des moments durant ton enfance pendant lesquels, pour une raison quelconque tes parents étaient peu disponibles pour toi?\n",
      "<Element 'answer' at 0x000002A2F63E4DB8> \n",
      "\t\t\n",
      "<Element 'question' at 0x000002A2F63E4EA8> Hum hum et comment  tu te sentais disons les fois où c’était moins euh, t’étais moins…\n",
      "<Element 'answer' at 0x000002A2F63E4EF8> \n",
      "\t\t\n",
      "<Element 'question' at 0x000002A2F63E8048> OK et est ce que tu as le souvenir d’une fois où t’étais souffrante ou malade pendant l’enfance?\n",
      "<Element 'answer' at 0x000002A2F63E8098> Heu oui j’me rappelle quand j’étais quand même assez jeune autours de l’âge… ça j’pourrais pas l’dire non pas vraiment….  5 ou 6 ans à peu près,  je faisais des amygdalites ? à répétition j’me suis retrouvée à l'hôpital plus d’une fois à cause de ça\n",
      "<Element 'question' at 0x000002A2F63E80E8> Pis comment tes parents réagissaient à ces fois là?\n",
      "<Element 'answer' at 0x000002A2F63E8138> \n",
      "\t\t\n",
      "<Element 'question' at 0x000002A2F63E8228> OK et euh, t’en as déjà parlé brièvement mais est ce qu’il y a eu des changements de situations importantes dans ton enfance?\n",
      "<Element 'answer' at 0x000002A2F63E8278> \n",
      "\t\t\n",
      "<Element 'question' at 0x000002A2F63E8318> Pis t’avais environ 10 ans aussi?\n",
      "<Element 'answer' at 0x000002A2F63E8368> Oui non peu après, vers 12 ans oui 11, 12 ans\n",
      "<Element 'question' at 0x000002A2F63E83B8> OK pis quand t’as déménagé est ce que t’as changé d’école aussi?\n",
      "<Element 'answer' at 0x000002A2F63E8408> Ouai vu que on est parti quand même de maisonneuve jusqu’à pouetautran J’ai changé d’école primaire euh en 5eme année j’étais dans une école en 6eme j’ai changé encore d’école mais c’était à 2 rues à côté. Âpres ça bah j’suis passée au secondaire.\n",
      "<Element 'question' at 0x000002A2F63E8458> Pis comment tu les as vécu les changements d’écoles?\n",
      "<Element 'answer' at 0x000002A2F63E84A8> (se racle la gorge) quand même assez bien parce que c’était courant dans ce coin là de changer d’école entre la 5ème et la 6ème parce que les deux écoles étaient pas d’la même taille donc on partait quasiment une trentaine. de l’école pour aller dans l’autre école pis après ça bah on se rejoignait tous pour aller à l’école secondaire qui était la même donc j’lai bien vécu parce que je suis partie avec toutes les amies que je m’était faite, on à changé d’école en même temps j’me suis faite aussi des nouveaux amis en rentrant à l’autre école que j’apprécie beaucoup et y’a certains que j’ai encore.\n",
      "<Element 'question' at 0x000002A2F63E84F8> OK et euh… comment tu réagissais quand on te laissait face à des inconnus, des personnes inconnues?\n",
      "<Element 'answer' at 0x000002A2F63E8548> Euh bah j’étais quand même assez distance, on m’avait appris « inconnu t’approches pas, tu parles pas » euh surtout mon oncle donc qui travaillait, qui était gardien de prison quand il me montrait à me défendre, il me montrait aussi euh qu’y a des personnes a qui on peut pas faire confiance surtout si on les connait pas donc euh on évite de parler à des inconnus, de voir des inconnus donc on évite d’aller voir les inconnus qui nous offrent des bonbons dans son manteau mais euh… j’avais pas peur des inconnus mais je m’approchais pas du tout quand les personnes s'arrêtant ou des choses comme ça.\n",
      "<Element 'question' at 0x000002A2F63E8598> OK pis sinon quand s’était disons des euh… des amis à tes parents ou des collègues de travail que tu rencontrais mais que tu connaissais pas comment tu réagissais ?\n",
      "<Element 'answer' at 0x000002A2F63E85E8> Bin euh, j’étais plutôt indifférente puisque c’était des inconnus pour moi mais c’était pas des inconnus pour mes parents donc euh ça me dérangeais pas d’aller les voir, mes parents en général me présentaient aux personnes pis après ça j’les laissais discuter j’men allais dans ma chambre. Mais j’avais pas peur de ses inconnus la parce que j’sais pas c’était des semi inconnus, c’était des inconnus pour moi mais pas mes parents donc la logique d’un enfant veut que si les parents connaissent la personne c’est moins un inconnu.\n",
      "<Element 'question' at 0x000002A2F63E8638> Hum et tu te souviens d’un exemple de fois où tu étais face à un inconnu?\n",
      "<Element 'answer' at 0x000002A2F63E8688> Hum… pas vraiment non. Non c’est arrivé quand même assez rarement, des fois aussi c’est des collègues de mes parents mais ça arrivait très peu souvent qu’il y ait des, des personnes venues comme çà à la maison.\n",
      "<Element 'question' at 0x000002A2F63E86D8> OK et euh dans des situations nouvelles ou inconnues comment tu réagissais?\n",
      "<Element 'answer' at 0x000002A2F63E8728> Euh disons qu’suis bien dans mon cocon j’ai quand même un peu de difficultés à, à avancer, à aller dans les nouv… les nouveaux obstacles, une fois que l’obstacle est franchi j’ai aucun problème j’avance pis ça va très bien mais j’ai un peu de difficultés à faire le pas face à un obstacle, face à une nouvelle chose euh, j’aime bien mon confort, j’aime pas beaucoup changer donc euh… j’étais un peu craintive bah au niveau des changements ou des obstacles qui peuvent arriver.\n",
      "<Element 'question' at 0x000002A2F63E8778> OK et est ce que c’était comme ça aussi quand t’étais plus jeune?\n",
      "<Element 'answer' at 0x000002A2F63E87C8> Oui oui j’ai toujours été comme ça.\n",
      "<Element 'question' at 0x000002A2F63E8818> Est-ce que tu peux me citer un exemple?\n",
      "<Element 'answer' at 0x000002A2F63E8868> (silence) Euh et bin d’ja juste les fois où il a fallu qu’je [fasse des indications] incompréhensible pour l’université, j’ai une inquiétude à le faire j’aimerai rester comme si ça pouvait toujours avancer euh, j’dirais être toujours dans la même école, avec les même personnes, dans le même milieu mais on avance, j’aurais aucun problème mais de changer de milieu j’ai beaucoup de difficultés donc j’ai l’faire parce que j’suis obligée mais avec une réticence.\n",
      "<Element 'question' at 0x000002A2F63E88B8> OK et est ce que tu as déjà été en danger durant l’enfance?\n",
      "<Element 'answer' at 0x000002A2F63E8908> Hum… quelle sorte de danger?\n",
      "<Element 'question' at 0x000002A2F63E8958> Bin dans une situation où toi tu te sentais en danger.\n",
      "<Element 'answer' at 0x000002A2F63E89A8> A part quand j’ai arrêté de respirer bébé non j’ai jamais aimé mettre ma vie en danger, faire des sports extrêmes ou des choses comme ça… euh… non… non…\n",
      "<Element 'question' at 0x000002A2F63E89F8> Ok et maintenant je vais te proposer de parler des relations de couple que t’as connu.\n",
      "<Element 'answer' at 0x000002A2F63E8A48> Ok\n",
      "<Element 'question' at 0x000002A2F63E8A98> Est-ce que tu te rappelles combien d’entre elles ont compté pour toi?\n",
      "<Element 'answer' at 0x000002A2F63E8AE8> Une\n",
      "<Element 'question' at 0x000002A2F63E8B38> Euh est ce que euh est ce que t’es encore avec cet….\n",
      "<Element 'answer' at 0x000002A2F63E8B88> Oui\n",
      "<Element 'question' at 0x000002A2F63E8BD8> Oui et donc selon toi est ce que l’un de vous deux est plus demandeur d’attention que l’autre?\n",
      "<Element 'answer' at 0x000002A2F63E8C28> Hum… (silence) je serais portée à dire que j’veux plus d’attention vu que… bin moi j’demande plus d’attention de lui et lui demande plus d’attention de tout le monde (rire) c’est un peu étrange. Si lui est dans un endroit public avec de personnes qu’il connaît moins ou certains de mes amis, des personnes comme ça, des personnes qui vont nous entourer et commencer à parler, il a besoin d’un peu plus d’attention. Ça s’est calmé avec les amis mais je constate que c’est un peu hyperactif , donc heu… il a un surplus d'énergie quand y a trop de monde mais ça se calme. Moi c’est vraiment envers lui. J’aime… vu que j’étais pas très proche de mon frère\n",
      "\t\t\n",
      "<Element 'question' at 0x000002A2F63E8D18> OK pis comment il réagit généralement à ça?\n",
      "<Element 'answer' at 0x000002A2F63E8D68> Il aime ça (rire) il aime ça, ça le dérange pas et puis il aime ça me donner de l’attention.\n",
      "<Element 'question' at 0x000002A2F63E8DB8> OK et euh pendant votre relation est ce qui t’ai arrivé de traverser une épreuve difficile en dehors du couple?\n",
      "<Element 'answer' at 0x000002A2F63E8E08> \n",
      "\t\t\n",
      "<Element 'question' at 0x000002A2F63E8EA8> OK pis euh comment ton copain il s’comportait envers toi à c’moment la?\n",
      "<Element 'answer' at 0x000002A2F63E8EF8> \n",
      "\t\t\n",
      "<Element 'question' at 0x000002A2F63E8F98> Et pis comment t’as réagi toi quand il a dit ça?\n",
      "<Element 'answer' at 0x000002A2F63EC048> \n",
      "\t\t\n",
      "<Element 'question' at 0x000002A2F63EC0E8> OK et euh est ce que tu pourrais me raconter comment ça se passe entre vous lors des conflits ?\n",
      "<Element 'answer' at 0x000002A2F63EC138> \n",
      "\t\t\n",
      "<Element 'question' at 0x000002A2F63EC1D8> Est ce que tu peux me citer un exemple?\n",
      "<Element 'answer' at 0x000002A2F63EC228> \n",
      "\t\t\n",
      "<Element 'question' at 0x000002A2F63EC2C8> Ok et euh pendant votre relation est ce qu’il t’est arrivé de te séparer de lui pour une raison quelconque?\n",
      "<Element 'answer' at 0x000002A2F63EC318> \n",
      "\t\t\n",
      "<Element 'question' at 0x000002A2F63EC3B8> OK et lui comment euh… qu’est ce que ça lui fait à lui, est ce qui t’en a parlé?\n",
      "<Element 'answer' at 0x000002A2F63EC408> \n",
      "\t\t\n",
      "<Element 'question' at 0x000002A2F63EC4A8> OK et quand t’es malade, quel comportement t’as avec lui?\n",
      "<Element 'answer' at 0x000002A2F63EC4F8> \n",
      "\t\t\n",
      "<Element 'question' at 0x000002A2F63EC598> OK et euh pendant cette relation est ce qu’il t’es arrivé de te trouver dans une situation dangereuse?\n",
      "<Element 'answer' at 0x000002A2F63EC5E8> \n",
      "\t\t\n",
      "<Element 'question' at 0x000002A2F63EC688> Non? et euh vous êtes encore ensemble présentement?\n",
      "<Element 'answer' at 0x000002A2F63EC6D8> \n",
      "\t\t\n",
      "<Element 'question' at 0x000002A2F63EC778> Bon est maintenant dans ton histoire euh… dans votre, euh dans ton histoire de vie en général est ce qu’il y a eu un événement marquant dont on a pas parlé?\n",
      "<Element 'answer' at 0x000002A2F63EC7C8> Hum… non j’pense pas.\n",
      "<Element 'question' at 0x000002A2F63EC818> Est ce qu’il y a autre chose que t’aimerais rajouter?\n",
      "<Element 'answer' at 0x000002A2F63EC868> Hum… non c’est bon maintenant\n"
     ]
    }
   ],
   "source": [
    "for elem in root:\n",
    "    print(elem, elem.text)"
   ]
  },
  {
   "cell_type": "code",
   "execution_count": 4,
   "metadata": {},
   "outputs": [
    {
     "data": {
      "text/plain": [
       "[<Element 'partner' at 0x000002A2F63E8E58>,\n",
       " <Element 'partner' at 0x000002A2F63E8F48>,\n",
       " <Element 'partner' at 0x000002A2F63EC098>,\n",
       " <Element 'partner' at 0x000002A2F63EC188>,\n",
       " <Element 'partner' at 0x000002A2F63EC278>,\n",
       " <Element 'partner' at 0x000002A2F63EC368>,\n",
       " <Element 'partner' at 0x000002A2F63EC458>,\n",
       " <Element 'partner' at 0x000002A2F63EC548>,\n",
       " <Element 'partner' at 0x000002A2F63EC638>,\n",
       " <Element 'partner' at 0x000002A2F63EC728>]"
      ]
     },
     "execution_count": 4,
     "metadata": {},
     "output_type": "execute_result"
    }
   ],
   "source": [
    "list(root.iter('father'))"
   ]
  },
  {
   "cell_type": "code",
   "execution_count": 5,
   "metadata": {},
   "outputs": [
    {
     "data": {
      "text/plain": [
       "[<Element 'mother' at 0x000002A2F63D9278>,\n",
       " <Element 'mother' at 0x000002A2F63D9958>,\n",
       " <Element 'mother' at 0x000002A2F63D9BD8>,\n",
       " <Element 'mother' at 0x000002A2F63D9CC8>,\n",
       " <Element 'mother' at 0x000002A2F63D9DB8>,\n",
       " <Element 'mother' at 0x000002A2F63E4228>,\n",
       " <Element 'mother' at 0x000002A2F63E4958>,\n",
       " <Element 'mother' at 0x000002A2F63E4A98>,\n",
       " <Element 'mother' at 0x000002A2F63E4BD8>,\n",
       " <Element 'mother' at 0x000002A2F63E4CC8>,\n",
       " <Element 'mother' at 0x000002A2F63E4E58>,\n",
       " <Element 'mother' at 0x000002A2F63E4F98>,\n",
       " <Element 'mother' at 0x000002A2F63E8188>,\n",
       " <Element 'mother' at 0x000002A2F63E8CC8>]"
      ]
     },
     "execution_count": 5,
     "metadata": {},
     "output_type": "execute_result"
    }
   ],
   "source": [
    "list(root.iter('mother'))"
   ]
  },
  {
   "cell_type": "code",
   "execution_count": 6,
   "metadata": {},
   "outputs": [
    {
     "data": {
      "text/plain": [
       "[<Element 'partner' at 0x000002A2F63E8E58>,\n",
       " <Element 'partner' at 0x000002A2F63E8F48>,\n",
       " <Element 'partner' at 0x000002A2F63EC098>,\n",
       " <Element 'partner' at 0x000002A2F63EC188>,\n",
       " <Element 'partner' at 0x000002A2F63EC278>,\n",
       " <Element 'partner' at 0x000002A2F63EC368>,\n",
       " <Element 'partner' at 0x000002A2F63EC458>,\n",
       " <Element 'partner' at 0x000002A2F63EC548>,\n",
       " <Element 'partner' at 0x000002A2F63EC638>,\n",
       " <Element 'partner' at 0x000002A2F63EC728>]"
      ]
     },
     "execution_count": 6,
     "metadata": {},
     "output_type": "execute_result"
    }
   ],
   "source": [
    "list(root.iter('partner'))"
   ]
  },
  {
   "cell_type": "code",
   "execution_count": 9,
   "metadata": {},
   "outputs": [
    {
     "name": "stdout",
     "output_type": "stream",
     "text": [
      "['10', 'activités', 'age', 'ai', 'aide', 'aime', 'aimé', 'aimée', 'ait', 'allais', 'aller', 'ami', 'amis', 'an', 'année', 'ans', 'apprécié', 'après', 'arrivait', 'arrêtais', 'asseoir', 'assez', 'assuraient', 'attentionnés', 'aussi', 'autre', 'autrement', 'autres', 'avais', 'avait', 'avant', 'avec', 'avoir', 'bah', 'banlieue', 'bas', 'beaucoup', 'bien', 'bin', 'bon', 'bonne', 'bras', 'bénéfique', 'calme', 'caractères', 'cause', 'ce', 'centre', 'changement', 'changements', 'chevet', 'chez', 'chicaner', 'choc', 'chose', 'comme', 'complicité', 'comprenne', 'concentrés', 'confier', 'coucher', 'couches', 'couché', 'crème', 'culturel', 'dans', 'de', 'demi', 'des', 'difficultés', 'dirais', 'dire', 'disait', 'discuter', 'dispute', 'disputes', 'dit', 'donc', 'doudous', 'doux', 'droit', 'du', 'déménagement', 'déménagé', 'dérangeais', 'en', 'endormais', 'endormir', 'enfants', 'ennuyais', 'ensemble', 'entendre', 'espire', 'essayait', 'est', 'et', 'eu', 'euh', 'explicites', 'expliquait', 'faire', 'faisais', 'fait', 'faite', 'films', 'fin', 'fini', 'finissait', 'fois', 'frère', 'fréquent', 'gaie', 'glacée', 'gorge', 'gouts', 'grand', 'gros', 'général', 'géographique', 'haut', 'heu', 'heure', 'hiver', 'hum', 'il', 'ils', 'important', 'importe', 'inquiets', 'je', 'jeune', 'jm', 'jouais', 'journée', 'just', 'juste', 'la', 'le', 'les', 'levais', 'lit', 'lolo', 'lui', 'là', 'ma', 'mais', 'maison', 'mal', 'mander', 'manipuler', 'manquait', 'matin', 'me', 'mentalité', 'mes', 'mettait', 'milieu', 'minuit', 'minute', 'minutes', 'moi', 'moments', 'mon', 'monde', 'monter', 'mère', 'même', 'nait', 'nan', 'neuve', 'niveau', 'non', 'nouvelles', 'nuit', 'obéir', 'obéissance', 'on', 'ont', 'onze', 'ou', 'oui', 'où', 'paisible', 'paix', 'par', 'parc', 'parce', 'parent', 'parents', 'parlait', 'parti', 'partie', 'partir', 'partit', 'pas', 'passait', 'passé', 'pendant', 'permanent', 'peu', 'pile', 'pis', 'plaisant', 'plaisantes', 'plaisir', 'plus', 'plutôt', 'politique', 'pour', 'pourrais', 'pouvais', 'presque', 'problèmes', 'proche', 'puis', 'punitions', 'père', 'qu', 'quand', 'que', 'quelqu', 'quelque', 'quequ', 'qui', 'quoi', 'racle', 'ram', 'ramasser', 'rappelle', 'rapport', 'rare', 'relation', 'religions', 'remplacé', 'renfermée', 'respirer', 'rire', 'rires', 'réglé', 'sais', 'salon', 'savais', 'se', 'semaine', 'sentais', 'ses', 'si', 'similaires', 'soir', 'soit', 'soucis', 'souvent', 'strict', 'suis', 'sur', 'surtout', 'systématiquement', 'séparations', 'tard', 'temps', 'tombé', 'toujours', 'tous', 'tout', 'toute', 'tracas', 'travaillait', 'trouvait', 'très', 'tu', 'télé', 'télévision', 'tôt', 'un', 'une', 'vacances', 'vais', 'venait', 'vers', 'vie', 'ville', 'vite', 'voir', 'voix', 'voulais', 'voyais', 'vraiment', 'vu', 'vue', 'zone', 'ça', 'écoutait', 'écoute', 'étaient', 'étais', 'était', 'été']\n",
      "{'mon': 162, 'père': 216, 'travaillait': 266, 'le': 137, 'soir': 248, 'voyais': 285, 'surtout': 255, 'la': 136, 'fin': 105, 'de': 66, 'semaine': 243, 'ça': 290, 'est': 94, 'toujours': 261, 'très': 268, 'bien': 37, 'passé': 196, 'avec': 31, 'sais': 239, 'pas': 194, 'souvent': 251, 'parc': 185, 'qu': 217, 'il': 124, 'se': 242, 'racle': 225, 'gorge': 113, 'mais': 145, 'on': 176, 'essayait': 93, 'avoir': 32, 'quand': 218, 'même': 166, 'une': 274, 'bonne': 40, 'relation': 231, 'pour': 208, 'des': 68, 'caractères': 44, 'assez': 21, 'similaires': 247, 'donc': 77, 'gouts': 114, 'aussi': 24, 'les': 138, 'peu': 199, 'fois': 108, 'vraiment': 286, 'entendre': 91, 'heu': 120, 'faire': 100, 'activités': 1, 'plaisantes': 203, 'ensemble': 90, 'oui': 180, 'en': 85, 'ai': 3, 'un': 273, 'qui': 223, 'venait': 277, 'étais': 294, 'plus': 205, 'jeune': 130, 'vue': 288, 'arrivait': 18, 'vers': 278, 'onze': 178, 'heure': 121, 'et': 95, 'demi': 67, 'minuit': 157, 'maison': 146, 'pis': 201, 'vu': 287, 'tout': 263, 'monde': 163, 'était': 295, 'couché': 62, 'écoutait': 291, 'télévision': 271, 'avant': 30, 'aller': 10, 'coucher': 60, 'moi': 160, 'levais': 139, 'systématiquement': 256, 'jm': 131, 'vais': 276, 'allais': 9, 'asseoir': 20, 'dans': 65, 'salon': 240, 'lui': 142, 'puis': 214, 'parlait': 189, 'importe': 127, 'quoi': 224, 'passait': 195, 'télé': 270, 'général': 117, 'soit': 249, 'nouvelles': 172, 'ou': 179, 'films': 104, 'euh': 97, 'explicites': 98, 'bas': 35, 'age': 2, 'mettait': 155, 'expliquait': 99, 'politique': 207, 'autres': 27, 'religions': 232, 'ce': 46, 'que': 219, 'comprenne': 57, 'mal': 147, 'moments': 161, 'proche': 213, 'hum': 123, 'me': 152, 'sentais': 244, 'gaie': 111, 'just': 134, 'paix': 183, 'avais': 28, 'complicité': 56, 'aimée': 7, 'juste': 135, 'finissait': 107, 'endormais': 86, 'ses': 245, 'bras': 41, 'ram': 226, 'nait': 167, 'lit': 140, 'paisible': 182, 'soucis': 250, 'tracas': 265, 'séparations': 257, 'comme': 55, 'partir': 192, 'année': 14, 'après': 17, 'suis': 253, 'partie': 191, 'autre': 25, 'ami': 11, 'bah': 33, 'toute': 264, 'eu': 96, 'beaucoup': 36, 'plaisir': 204, 'ennuyais': 89, 'plutôt': 206, 'rare': 230, 'ait': 8, 'disputes': 75, 'renfermée': 234, 'sur': 254, 'chicaner': 52, 'autrement': 26, 'savais': 241, 'manipuler': 149, 'ma': 144, 'mère': 165, 'voulais': 284, 'calme': 43, 'faisais': 101, 'disait': 72, 'chez': 51, 'étaient': 293, 'frère': 109, 'avait': 29, 'problèmes': 212, 'mes': 154, 'parents': 188, 'concentrés': 58, 'punitions': 215, 'par': 184, 'rapport': 229, 'nan': 168, 'fréquent': 110, 'rappelle': 228, 'dispute': 74, 'non': 171, 'parce': 186, 'été': 296, 'strict': 252, 'doux': 79, 'aime': 5, 'monter': 164, 'voix': 283, 'dit': 76, 'quequ': 222, 'chose': 54, 'écoute': 292, 'rire': 236, 'difficultés': 69, 'endormir': 87, 'dirais': 70, 'tous': 262, 'enfants': 88, 'ont': 177, 'je': 129, 'jouais': 132, 'doudous': 78, 'pile': 200, 'temps': 259, 'bon': 39, 'tard': 258, 'lolo': 141, 'fini': 106, 'tu': 269, 'couches': 61, 'tôt': 272, 'niveau': 170, 'obéissance': 175, 'dérangeais': 84, 'obéir': 174, 'bin': 38, 'minutes': 159, 'matin': 151, 'minute': 158, 'nuit': 173, 'si': 246, 'confier': 59, 'grand': 115, 'journée': 133, 'trouvait': 267, 'remplacé': 233, 'pendant': 197, 'vacances': 275, 'où': 181, 'hiver': 122, 'manquait': 150, 'parent': 187, 'quelqu': 220, 'pouvais': 210, 'mander': 148, 'aide': 4, 'quelque': 221, 'mentalité': 153, 'ils': 125, 'attentionnés': 23, 'droit': 80, 'crème': 63, 'glacée': 112, 'rires': 237, 'inquiets': 128, 'cause': 45, 'arrêtais': 19, 'respirer': 235, 'chevet': 50, 'assuraient': 22, 'espire': 92, 'important': 126, 'réglé': 238, 'parti': 190, 'déménagé': 83, '10': 0, 'ans': 15, 'an': 13, 'tombé': 260, 'permanent': 198, 'fait': 102, 'gros': 116, 'changements': 49, 'déménagement': 82, 'partit': 193, 'zone': 289, 'géographique': 118, 'neuve': 169, 'ville': 280, 'choc': 53, 'culturel': 64, 'pourrais': 209, 'dire': 71, 'presque': 211, 'du': 81, 'centre': 47, 'ramasser': 227, 'banlieue': 34, 'plaisant': 202, 'aimé': 6, 'milieu': 156, 'faite': 103, 'amis': 12, 'vite': 281, 'haut': 119, 'changement': 48, 'bénéfique': 42, 'vie': 279, 'voir': 282, 'discuter': 73, 'là': 143, 'apprécié': 16}\n",
      "[[0.         0.         0.         ... 0.         0.         0.        ]\n",
      " [0.         0.         0.         ... 0.         0.         0.        ]\n",
      " [0.         0.         0.         ... 0.         0.         0.        ]\n",
      " ...\n",
      " [0.         0.         0.         ... 0.         0.07552874 0.10443793]\n",
      " [0.07750755 0.         0.         ... 0.05087484 0.04390082 0.12140837]\n",
      " [0.         0.         0.         ... 0.         0.36492667 0.        ]]\n"
     ]
    }
   ],
   "source": [
    "###TfidfVectorizer can combine CountVectorizer and TfidfTransformer to generate tfidf value directly.\n",
    "corpus_father = [father.text for father in root.iter('father')] \n",
    "tfidf_vec_father = TfidfVectorizer() \n",
    "tfidf_matrix_count_father = tfidf_vec_father.fit_transform(corpus_father)\n",
    "print(tfidf_vec_father.get_feature_names())\n",
    "print(tfidf_vec_father.vocabulary_)\n",
    "print(tfidf_matrix_count_father.toarray())"
   ]
  },
  {
   "cell_type": "code",
   "execution_count": 13,
   "metadata": {},
   "outputs": [
    {
     "name": "stdout",
     "output_type": "stream",
     "text": [
      "['ai', 'aide', 'aimait', 'ait', 'aller', 'alors', 'apprenait', 'après', 'arrangeaient', 'arrivait', 'arrêtais', 'assez', 'assuraient', 'attentionnés', 'autrement', 'autres', 'aux', 'avais', 'avait', 'avant', 'avec', 'avoir', 'avouer', 'bah', 'beaucoup', 'belle', 'bien', 'bon', 'bonne', 'cachait', 'calme', 'cause', 'ce', 'ces', 'chevet', 'chez', 'chicaner', 'choses', 'collègues', 'comme', 'comment', 'communiquer', 'concentrés', 'confier', 'conflit', 'connaissais', 'conseils', 'copain', 'coucher', 'crie', 'criera', 'crème', 'dans', 'de', 'des', 'deux', 'difficile', 'difficilement', 'difficultés', 'dirais', 'disaient', 'disais', 'disait', 'disponible', 'dispute', 'disputes', 'distante', 'dit', 'dois', 'donc', 'droit', 'du', 'dure', 'déboussolée', 'déjà', 'désaccord', 'désobéissais', 'elle', 'en', 'enfant', 'entre', 'envers', 'espire', 'essayait', 'est', 'et', 'eu', 'euh', 'eux', 'extérieures', 'facilement', 'faire', 'faisais', 'famille', 'fin', 'fine', 'fois', 'frère', 'fréquent', 'gens', 'glacée', 'gorge', 'général', 'heu', 'heure', 'hiver', 'hum', 'humeur', 'il', 'ils', 'important', 'inquiets', 'intérieur', 'jamais', 'je', 'jeune', 'juste', 'la', 'le', 'les', 'lui', 'là', 'ma', 'mais', 'maison', 'mal', 'maman', 'mander', 'manipuler', 'manquait', 'me', 'meilleure', 'mentalité', 'mes', 'modèle', 'moi', 'mon', 'monde', 'montrer', 'mère', 'même', 'nais', 'nan', 'ne', 'nous', 'nuit', 'nécessairement', 'obligée', 'on', 'où', 'par', 'parc', 'parce', 'parent', 'parents', 'parlait', 'parle', 'parler', 'parlé', 'parti', 'partir', 'pas', 'passe', 'peine', 'pendant', 'pensées', 'permanence', 'personnes', 'peu', 'peut', 'peux', 'pis', 'plus', 'plutôt', 'pour', 'pouvais', 'pouvoir', 'prenait', 'problèmes', 'préféré', 'puis', 'puisque', 'punitions', 'père', 'qu', 'quand', 'que', 'quelqu', 'qui', 'quoi', 'racle', 'ram', 'rappeler', 'rappelle', 'rapport', 'rare', 'rarement', 'renfermée', 'rentre', 'respirer', 'reste', 'rires', 'réglé', 'sa', 'sage', 'sais', 'savais', 'savent', 'se', 'secret', 'semaine', 'sentais', 'sentiment', 'ses', 'si', 'signer', 'silence', 'soir', 'soit', 'souvent', 'souviens', 'sur', 'surtout', 'séparations', 'temps', 'tendu', 'toujours', 'tout', 'travail', 'travaillait', 'tromper', 'très', 'télévision', 'un', 'une', 'va', 'valorisait', 'vieille', 'voir', 'voit', 'voulais', 'voyais', 'voyait', 'vraiment', 'vu', 'ça', 'école', 'écoutais', 'élevée', 'étaient', 'étais', 'était', 'été']\n",
      "{'donc': 69, 'étais': 250, 'surtout': 222, 'élevée': 248, 'par': 150, 'maman': 126, 'ai': 0, 'toujours': 226, 'eu': 86, 'un': 233, 'peu': 168, 'de': 53, 'conflit': 44, 'avant': 19, 'avec': 20, 'ma': 122, 'mère': 139, 'mais': 123, 'euh': 87, 'je': 114, 'dois': 68, 'avouer': 22, 'elle': 77, 'ne': 143, 'cachait': 29, 'pas': 161, 'ses': 213, 'pensées': 165, 'préféré': 179, 'mon': 136, 'frère': 97, 'parce': 152, 'que': 186, 'plus': 172, 'sage': 204, 'école': 246, 'meilleure': 131, 'était': 251, 'tendu': 225, 'me': 130, 'souviens': 220, 'pendant': 164, 'été': 252, 'on': 148, 'avait': 18, 'beaucoup': 24, 'difficultés': 58, 'se': 208, 'communiquer': 41, 'sais': 205, 'voyait': 242, 'comme': 39, 'enfant': 79, 'modèle': 134, 'alors': 5, 'voulais': 240, 'qu': 184, 'voit': 239, 'ça': 245, 'racle': 190, 'la': 117, 'gorge': 101, 'parlait': 155, 'tout': 227, 'le': 118, 'monde': 137, 'quoi': 189, 'belle': 25, 'fine': 95, 'et': 85, 'dans': 52, 'dit': 67, 'jamais': 113, 'disait': 62, 'moi': 135, 'temps': 224, 'aux': 16, 'autres': 15, 'valorisait': 236, 'quand': 185, 'jeune': 115, 'hum': 106, 'silence': 216, 'est': 84, 'difficile': 56, 'parc': 151, 'sentiment': 212, 'intérieur': 112, 'vraiment': 243, 'parlé': 158, 'heu': 103, 'rappelle': 193, 'fois': 96, 'où': 149, 'des': 54, 'gens': 99, 'connaissais': 45, 'peine': 163, 'disaient': 60, 'choses': 37, 'sur': 221, 'disais': 61, 'nan': 142, 'reste': 200, 'secret': 209, 'famille': 93, 'rentre': 198, 'personnes': 167, 'très': 231, 'extérieures': 89, 'collègues': 38, 'travail': 228, 'qui': 188, 'savent': 207, 'nécessairement': 146, 'parle': 156, 'ces': 33, 'là': 121, 'ce': 32, 'séparations': 223, 'partir': 160, 'une': 234, 'semaine': 210, 'plutôt': 173, 'rare': 195, 'il': 108, 'ait': 3, 'disputes': 65, 'même': 140, 'assez': 11, 'renfermée': 197, 'vu': 244, 'voyais': 241, 'souvent': 219, 'père': 183, 'essayait': 83, 'chicaner': 36, 'pis': 171, 'autrement': 14, 'savais': 206, 'manipuler': 128, 'avais': 17, 'mal': 125, 'calme': 30, 'faisais': 92, 'les': 119, 'chez': 35, 'étaient': 249, 'problèmes': 178, 'mes': 133, 'parents': 154, 'concentrés': 42, 'lui': 120, 'punitions': 182, 'puis': 180, 'rapport': 194, 'fréquent': 98, 'pour': 174, 'dispute': 64, 'crie': 49, 'facilement': 90, 'après': 7, 'va': 235, 'nous': 144, 'montrer': 138, 'en': 78, 'désaccord': 75, 'bonne': 28, 'humeur': 107, 'criera': 50, 'peut': 169, 'voir': 238, 'télévision': 232, 'déjà': 74, 'copain': 47, 'arrivait': 9, 'si': 214, 'arrangeaient': 8, 'soit': 218, 'entre': 80, 'eux': 88, 'envers': 81, 'peux': 170, 'rappeler': 192, 'comment': 40, 'passe': 162, 'écoutais': 247, 'bien': 26, 'prenait': 177, 'désobéissais': 76, 'ram': 191, 'nais': 141, 'faire': 91, 'signer': 215, 'aimait': 2, 'obligée': 147, 'travaillait': 229, 'soir': 217, 'apprenait': 6, 'rarement': 196, 'maison': 124, 'heure': 104, 'du': 71, 'coucher': 48, 'disponible': 63, 'puisque': 181, 'permanence': 166, 'fin': 94, 'deux': 55, 'juste': 116, 'hiver': 105, 'manquait': 129, 'parent': 153, 'quelqu': 187, 'pouvais': 175, 'mander': 127, 'aide': 1, 'confier': 43, 'mentalité': 132, 'dirais': 59, 'vieille': 237, 'sa': 203, 'dure': 72, 'difficilement': 57, 'tromper': 230, 'sentais': 211, 'déboussolée': 73, 'pouvoir': 176, 'aller': 4, 'parler': 157, 'avoir': 21, 'conseils': 46, 'bah': 23, 'général': 102, 'ils': 109, 'attentionnés': 13, 'droit': 70, 'crème': 51, 'glacée': 100, 'bon': 27, 'rires': 201, 'inquiets': 111, 'cause': 31, 'arrêtais': 10, 'respirer': 199, 'nuit': 145, 'chevet': 34, 'assuraient': 12, 'espire': 82, 'important': 110, 'réglé': 202, 'parti': 159, 'distante': 66}\n",
      "[[0.         0.         0.         ... 0.3642039  0.         0.        ]\n",
      " [0.29999951 0.         0.         ... 0.         0.         0.        ]\n",
      " [0.         0.         0.         ... 0.32220152 0.         0.        ]\n",
      " ...\n",
      " [0.         0.         0.         ... 0.         0.         0.        ]\n",
      " [0.         0.         0.         ... 0.         0.06951759 0.09910476]\n",
      " [0.         0.         0.         ... 0.         0.37563247 0.        ]]\n"
     ]
    }
   ],
   "source": [
    "corpus_mother = [mother.text for mother in root.iter('mother')] \n",
    "tfidf_vec_mother = TfidfVectorizer() \n",
    "tfidf_matrix_count_mother = tfidf_vec_mother.fit_transform(corpus_mother)\n",
    "print(tfidf_vec_mother.get_feature_names())\n",
    "print(tfidf_vec_mother.vocabulary_)\n",
    "print(tfidf_matrix_count_mother.toarray())"
   ]
  },
  {
   "cell_type": "code",
   "execution_count": 16,
   "metadata": {},
   "outputs": [
    {
     "name": "stdout",
     "output_type": "stream",
     "text": [
      "['6ème', 'agonisante', 'ai', 'aidé', 'aimait', 'aime', 'aise', 'animaux', 'ans', 'arranger', 'arrive', 'arriver', 'arrivé', 'assez', 'attention', 'attentions', 'au', 'aussi', 'autant', 'autre', 'avais', 'avait', 'avant', 'avec', 'bah', 'beaucoup', 'bien', 'bis', 'carrément', 'cause', 'ce', 'cette', 'change', 'changer', 'changé', 'chats', 'chien', 'chose', 'choses', 'combler', 'comme', 'commence', 'compagnie', 'complet', 'comportement', 'comprend', 'compris', 'conflits', 'content', 'contente', 'couché', 'courant', 'dans', 'de', 'depuis', 'des', 'deux', 'difficile', 'difficultés', 'digestifs', 'dire', 'disait', 'discales', 'discute', 'distant', 'dit', 'donc', 'du', 'dur', 'dure', 'déjà', 'déstabiliser', 'en', 'encore', 'entre', 'envers', 'escalier', 'essaie', 'essait', 'est', 'et', 'eu', 'euh', 'euthanasier', 'expliqué', 'face', 'failli', 'faire', 'faisait', 'fait', 'fin', 'fini', 'finir', 'finissais', 'fins', 'fois', 'froid', 'fréquentes', 'garde', 'grand', 'grave', 'gros', 'général', 'heu', 'hum', 'hurlait', 'il', 'important', 'intérêt', 'jamais', 'javais', 'je', 'jour', 'juste', 'la', 'le', 'les', 'lui', 'là', 'maintenant', 'mais', 'maison', 'mal', 'malade', 'mangeurs', 'me', 'meure', 'moi', 'moins', 'moitié', 'mon', 'ménage', 'même', 'non', 'nous', 'nuit', 'occupait', 'on', 'ou', 'oublie', 'oublié', 'oui', 'ouverts', 'où', 'paralysé', 'parce', 'partie', 'pas', 'passait', 'passe', 'pendant', 'pense', 'personne', 'petites', 'peu', 'peut', 'pire', 'pis', 'plaints', 'pleurs', 'plus', 'poissons', 'portait', 'portant', 'pour', 'pourrais', 'pouvais', 'pouvoir', 'problèmes', 'puis', 'qu', 'quand', 'que', 'quelque', 'question', 'qui', 'rarement', 'rentrée', 'reproché', 'ridicule', 'rire', 'réconfort', 'réponse', 'scolaire', 'se', 'semaine', 'seule', 'si', 'silence', 'sofa', 'soit', 'souffrant', 'soupe', 'stress', 'suis', 'suite', 'sur', 'surtout', 'surviennent', 'séparés', 'taches', 'temps', 'tites', 'tombé', 'toujours', 'tousse', 'tout', 'toute', 'toutes', 'train', 'travail', 'travaillait', 'travaille', 'travailler', 'trouvé', 'très', 'un', 'une', 'va', 'vaisselle', 'voilà', 'voir', 'voix', 'voulais', 'voyais', 'voyait', 'vraiment', 'zoo', 'ça', 'école', 'émotionnels', 'éprouvant', 'étais', 'était', 'étant', 'été', 'être']\n",
      "{'hum': 104, 'silence': 188, 'oui': 141, 'et': 80, 'non': 133, 'euh': 82, 'moi': 127, 'ai': 2, 'trouvé': 214, 'quand': 171, 'même': 132, 'ça': 228, 'difficile': 57, 'pour': 164, 'mais': 120, 'une': 217, 'autre': 19, 'personne': 152, 'va': 218, 'dire': 60, 'que': 172, 'est': 79, 'ridicule': 179, 'failli': 86, 'faire': 87, 'euthanasier': 83, 'mon': 130, 'chien': 36, 'suis': 194, 'rentrée': 177, 'en': 72, '6ème': 0, 'il': 106, 'tombé': 203, 'dans': 52, 'escalier': 76, 'pis': 157, 'des': 55, 'discales': 62, 'depuis': 54, 'être': 236, 'paralysé': 144, 'tousse': 205, 'était': 233, 'très': 215, 'souffrant': 191, 'couché': 50, 'puis': 169, 'hurlait': 105, 'assez': 13, 'éprouvant': 231, 'voir': 221, 'voilà': 220, 'été': 235, 'vraiment': 226, 'la': 114, 'seule': 186, 'fois': 95, 'heu': 103, 'où': 143, 'reproché': 178, 'jamais': 109, 'eu': 81, 'animaux': 7, 'de': 53, 'compagnie': 42, 'donc': 66, 'lui': 117, 'voyait': 225, 'pas': 147, 'intérêt': 108, 'qu': 170, 'javais': 110, 'face': 85, 'avais': 20, 'dit': 65, 'important': 107, 'expliqué': 84, 'maintenant': 119, 'comprend': 45, 'aime': 5, 'autant': 18, 'on': 137, 'aussi': 17, 'nous': 134, 'chats': 35, 'mangeurs': 124, 'poissons': 161, 'un': 216, 'zoo': 227, 'cette': 31, 'là': 118, 'dure': 69, 'parce': 145, 'froid': 96, 'passait': 148, 'juste': 113, 'sur': 196, 'le': 115, 'disait': 61, 'grave': 100, 'si': 187, 'meure': 126, 'fini': 91, 'tout': 206, 'je': 111, 'compris': 46, 'bah': 24, 'suite': 195, 'ce': 30, 'faisait': 88, 'voix': 222, 'change': 32, 'réponse': 182, 'question': 174, 'pleurs': 159, 'contente': 49, 'rire': 180, 'étais': 232, 'voulais': 223, 'du': 67, 'réconfort': 181, 'carrément': 28, 'fin': 90, 'aidé': 3, 'distant': 64, 'rarement': 176, 'conflits': 47, 'pourrais': 165, 'gros': 101, 'peut': 155, 'choses': 38, 'comme': 40, 'ménage': 131, 'tites': 202, 'content': 48, 'se': 184, 'essait': 78, 'arranger': 9, 'général': 102, 'ouverts': 142, 'discute': 63, 'peu': 154, 'qui': 175, 'surviennent': 198, 'entre': 74, 'toutes': 208, 'les': 116, 'taches': 200, 'maison': 121, 'fait': 89, 'vaisselle': 219, 'au': 16, 'complet': 43, 'finissais': 93, 'travail': 210, 'scolaire': 183, 'temps': 201, 'oublié': 140, 'arrivé': 12, 'école': 229, 'me': 125, 'quelque': 173, 'chose': 37, 'bien': 26, 'courant': 51, 'deux': 56, 'passe': 149, 'avant': 22, 'mal': 122, 'essaie': 77, 'toujours': 204, 'finir': 92, 'commence': 41, 'arriver': 11, 'ou': 138, 'oublie': 139, 'partie': 146, 'travaillait': 211, 'nuit': 135, 'toute': 207, 'fins': 94, 'semaine': 185, 'voyais': 224, 'avait': 21, 'encore': 73, 'moins': 128, 'travaille': 212, 'jour': 112, 'dur': 68, 'pouvoir': 167, 'bis': 27, 'déjà': 70, 'aimait': 4, 'soit': 190, 'séparés': 199, 'surtout': 197, 'pire': 156, 'beaucoup': 25, 'problèmes': 168, 'émotionnels': 230, 'cause': 29, 'digestifs': 59, 'stress': 193, 'avec': 23, 'travailler': 213, 'pendant': 150, 'ans': 8, 'plus': 160, 'train': 209, 'déstabiliser': 71, 'aise': 6, 'changé': 34, 'garde': 98, 'comportement': 44, 'changer': 33, 'portant': 163, 'attention': 14, 'plaints': 158, 'malade': 123, 'moitié': 129, 'agonisante': 1, 'sofa': 189, 'arrive': 10, 'pense': 151, 'difficultés': 58, 'grand': 99, 'envers': 75, 'portait': 162, 'petites': 153, 'attentions': 15, 'fréquentes': 97, 'soupe': 192, 'occupait': 136, 'pouvais': 166, 'combler': 39, 'étant': 234}\n",
      "[[0.1233118  0.         0.16307463 ... 0.         0.09171062 0.09171062]\n",
      " [0.         0.         0.11974885 ... 0.         0.06734488 0.06734488]\n",
      " [0.         0.         0.         ... 0.         0.27655697 0.        ]\n",
      " ...\n",
      " [0.         0.08957858 0.05923194 ... 0.08957858 0.         0.        ]\n",
      " [0.         0.         0.         ... 0.         0.         0.        ]\n",
      " [0.         0.         0.         ... 0.         0.         0.        ]]\n"
     ]
    }
   ],
   "source": [
    "corpus_partner = [partner.text for partner in root.iter('partner')] \n",
    "tfidf_vec_partner = TfidfVectorizer() \n",
    "tfidf_matrix_count_partner = tfidf_vec_partner.fit_transform(corpus_partner)\n",
    "print(tfidf_vec_partner.get_feature_names())\n",
    "print(tfidf_vec_partner.vocabulary_)\n",
    "print(tfidf_matrix_count_partner.toarray())"
   ]
  },
  {
   "cell_type": "code",
   "execution_count": null,
   "metadata": {},
   "outputs": [],
   "source": []
  }
 ],
 "metadata": {
  "kernelspec": {
   "display_name": "Python 3",
   "language": "python",
   "name": "python3"
  },
  "language_info": {
   "codemirror_mode": {
    "name": "ipython",
    "version": 3
   },
   "file_extension": ".py",
   "mimetype": "text/x-python",
   "name": "python",
   "nbconvert_exporter": "python",
   "pygments_lexer": "ipython3",
   "version": "3.7.3"
  }
 },
 "nbformat": 4,
 "nbformat_minor": 2
}
