{
 "cells": [
  {
   "cell_type": "markdown",
   "metadata": {},
   "source": [
    "## Loading and Processing the excel Data"
   ]
  },
  {
   "cell_type": "code",
   "execution_count": 46,
   "metadata": {},
   "outputs": [],
   "source": [
    "import pandas as pd\n",
    "import numpy as np\n",
    "import matplotlib.mlab as mlab  \n",
    "import matplotlib.pyplot as plt  "
   ]
  },
  {
   "cell_type": "code",
   "execution_count": null,
   "metadata": {},
   "outputs": [],
   "source": [
    "df = pd.read_csv('./filted_AMMI_ASSSI_Score1.csv',encoding='utf-8')\n",
    "df.values\n",
    "raw_data=df.as_matrix(columns=None).tolist()\n",
    "print(type(raw_data))"
   ]
  },
  {
   "cell_type": "code",
   "execution_count": 29,
   "metadata": {},
   "outputs": [],
   "source": [
    "sum=[]\n",
    "for i in range(np.array(raw_data).shape[0]):\n",
    "    for j in range(np.array(raw_data).shape[1]):\n",
    "        if raw_data[i][j]==\"#NULL!\":\n",
    "            raw_data[i][j]=-1"
   ]
  },
  {
   "cell_type": "code",
   "execution_count": 30,
   "metadata": {},
   "outputs": [
    {
     "name": "stdout",
     "output_type": "stream",
     "text": [
      "[51, 3, 2, 120, 3.0, 5.0, 5, '3', '7', '3', -1, -1, -1, 10, '6', -1]\n"
     ]
    }
   ],
   "source": [
    "print(raw_data[3])"
   ]
  },
  {
   "cell_type": "code",
   "execution_count": 55,
   "metadata": {},
   "outputs": [
    {
     "name": "stdout",
     "output_type": "stream",
     "text": [
      "(52, 2)\n"
     ]
    }
   ],
   "source": [
    "sum=[]\n",
    "for i in range(np.array(raw_data).shape[0]):\n",
    "    a=float(raw_data[i][4])+float(raw_data[i][5])+float(raw_data[i][6])+float(raw_data[i][7])+float(raw_data[i][8])+float(raw_data[i][9])+float(raw_data[i][10])+float(raw_data[i][11])+float(raw_data[i][12])+float(raw_data[i][13])+float(raw_data[i][14])+float(raw_data[i][15])\n",
    "    sum.append([raw_data[i][0],a])\n",
    "\n",
    "print(np.array(sum).shape)"
   ]
  },
  {
   "cell_type": "code",
   "execution_count": 60,
   "metadata": {},
   "outputs": [
    {
     "data": {
      "text/plain": [
       "Text(0, 0.5, 'Sum_Score')"
      ]
     },
     "execution_count": 60,
     "metadata": {},
     "output_type": "execute_result"
    },
    {
     "data": {
      "image/png": "[encoded data removed]",
      "text/plain": [
       "<Figure size 432x288 with 1 Axes>"
      ]
     },
     "metadata": {
      "needs_background": "light"
     },
     "output_type": "display_data"
    }
   ],
   "source": [
    "X=[]\n",
    "Y=[]\n",
    "for i in range(np.array(sum).shape[0]):\n",
    "    X.append(str(sum[i][0]))\n",
    "    Y.append(sum[i][1])\n",
    "\n",
    "\n",
    "\n",
    "fig = plt.figure()\n",
    "plt.bar(X,Y,0.5,color=\"green\")\n",
    "plt.xlabel(\"ID\")\n",
    "plt.ylabel(\"Sum_Score\")\n"
   ]
  },
  {
   "cell_type": "markdown",
   "metadata": {},
   "source": [
    " ## Loading Trainging Data"
   ]
  },
  {
   "cell_type": "code",
   "execution_count": 62,
   "metadata": {},
   "outputs": [],
   "source": [
    "import os\n",
    "import re\n",
    "import glob\n",
    "import numpy as np\n",
    "from collections import namedtuple, defaultdict\n",
    "import numpy as np\n",
    "import pandas as pd\n",
    "import spacy\n",
    "from spacy import displacy\n",
    "import nltk\n",
    "import en_core_web_sm\n",
    "import fr_core_news_sm\n",
    "import docx\n",
    "\n",
    "import matplotlib.mlab as mlab  \n",
    "import matplotlib.pyplot as plt  \n",
    "nlp_fr = fr_core_news_sm.load()"
   ]
  },
  {
   "cell_type": "code",
   "execution_count": 63,
   "metadata": {},
   "outputs": [
    {
     "name": "stdout",
     "output_type": "stream",
     "text": [
      "['../newdir/277.txt', '../newdir/278.txt', '../newdir/71.txt', '../newdir/527.txt', '../newdir/118.txt', '../newdir/93.txt', '../newdir/90.txt', '../newdir/747.txt', '../newdir/454.txt', '../newdir/116.txt', '../newdir/524.txt', '../newdir/67.txt', '../newdir/7.txt', '../newdir/175.txt', '../newdir/739.txt', '../newdir/15.txt', '../newdir/72.txt', '../newdir/257.txt', '../newdir/696.txt', '../newdir/51..txt', '../newdir/57.txt', '../newdir/283.txt', '../newdir/531.txt', '../newdir/105.txt', '../newdir/210.txt', '../newdir/505.txt', '../newdir/446.txt', '../newdir/148.txt', '../newdir/821.txt', '../newdir/32.txt', '../newdir/128.txt', '../newdir/107.txt', '../newdir/793.txt', '../newdir/66.txt', '../newdir/159.txt', '../newdir/157.txt', '../newdir/732.txt', '../newdir/674.txt', '../newdir/534.txt', '../newdir/88.txt', '../newdir/76.txt', '../newdir/28.txt', '../newdir/59.txt', '../newdir/133.txt', '../newdir/99.txt', '../newdir/207.txt', '../newdir/78.txt', '../newdir/182.txt', '../newdir/185.txt', '../newdir/225.txt', '../newdir/45.txt', '../newdir/523.txt']\n"
     ]
    }
   ],
   "source": [
    "Paths=[]\n",
    "\n",
    "\n",
    "for file in glob.glob(\"../newdir/*.txt\"):\n",
    "    Paths.append(file)\n",
    "    \n",
    "print(Paths)"
   ]
  },
  {
   "cell_type": "code",
   "execution_count": 64,
   "metadata": {},
   "outputs": [],
   "source": [
    "All_words=[]\n",
    "for path in Paths:\n",
    "    #print(path)\n",
    "    f=open(path,encoding='gbk')\n",
    "    temp=[]\n",
    "    line=f.readline()\n",
    "    while line:\n",
    "        temp+=line\n",
    "        line=f.readline()\n",
    "    f.close\n",
    "    \n",
    "    str=\"\"\n",
    "    temp=str.join(temp)\n",
    "    All_words.append(temp)"
   ]
  },
  {
   "cell_type": "code",
   "execution_count": null,
   "metadata": {},
   "outputs": [],
   "source": []
  }
 ],
 "metadata": {
  "kernelspec": {
   "display_name": "Python 3",
   "language": "python",
   "name": "python3"
  },
  "language_info": {
   "codemirror_mode": {
    "name": "ipython",
    "version": 3
   },
   "file_extension": ".py",
   "mimetype": "text/x-python",
   "name": "python",
   "nbconvert_exporter": "python",
   "pygments_lexer": "ipython3",
   "version": "3.7.3"
  }
 },
 "nbformat": 4,
 "nbformat_minor": 2
}
