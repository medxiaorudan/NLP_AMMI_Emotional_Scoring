{
 "cells": [
  {
   "cell_type": "markdown",
   "metadata": {},
   "source": [
    "## Loading and Processing the excel Data"
   ]
  },
  {
   "cell_type": "code",
   "execution_count": 14,
   "metadata": {},
   "outputs": [
    {
     "name": "stdout",
     "output_type": "stream",
     "text": [
      "<class 'list'>\n"
     ]
    },
    {
     "name": "stderr",
     "output_type": "stream",
     "text": [
      "/home/rhett/anaconda3/lib/python3.7/site-packages/ipykernel_launcher.py:4: FutureWarning: Method .as_matrix will be removed in a future version. Use .values instead.\n",
      "  after removing the cwd from sys.path.\n"
     ]
    }
   ],
   "source": [
    "import pandas as pd\n",
    "import numpy as np\n"
   ]
  },
  {
   "cell_type": "code",
   "execution_count": null,
   "metadata": {},
   "outputs": [],
   "source": [
    "df = pd.read_csv('./filted_AMMI_ASSSI_Score1.csv',encoding='utf-8')\n",
    "df.values\n",
    "raw_data=df.as_matrix(columns=None).tolist()\n",
    "print(type(raw_data))"
   ]
  },
  {
   "cell_type": "code",
   "execution_count": 29,
   "metadata": {},
   "outputs": [],
   "source": [
    "sum=[]\n",
    "for i in range(np.array(raw_data).shape[0]):\n",
    "    for j in range(np.array(raw_data).shape[1]):\n",
    "        if raw_data[i][j]==\"#NULL!\":\n",
    "            raw_data[i][j]=-1"
   ]
  },
  {
   "cell_type": "code",
   "execution_count": 30,
   "metadata": {},
   "outputs": [
    {
     "name": "stdout",
     "output_type": "stream",
     "text": [
      "[51, 3, 2, 120, 3.0, 5.0, 5, '3', '7', '3', -1, -1, -1, 10, '6', -1]\n"
     ]
    }
   ],
   "source": [
    "print(raw_data[3])"
   ]
  },
  {
   "cell_type": "code",
   "execution_count": 44,
   "metadata": {},
   "outputs": [
    {
     "name": "stdout",
     "output_type": "stream",
     "text": [
      "[[277, 39.0], [523, 44.0], [793, 42.0], [51, 38.0], [67, 32.0], [88, 64.0], [93, 24.0], [99, 30.0], [118, 47.0], [225, 23.0], [446, 26.0], [527, 43.0], [531, 22.0], [732, 18.0], [739, 32.0], [7, 19.0], [28, 34.0], [45, 13.0], [57, 42.0], [66, 27.0], [71, 30.0], [76, 42.0], [90, 50.0], [105, 38.0], [116, 32.0], [157, 50.0], [182, 74.0], [207, 48.5], [278, 34.0], [524, 30.0], [15, 37.0], [32, 46.0], [59, 44.0], [72, 30.0], [78, 44.0], [107, 30.0], [128, 45.0], [133, 32.0], [148, 28.0], [159, 61.0], [175, 43.0], [185, 16.0], [210, 44.5], [257, 70.0], [283, 49.0], [454, 44.0], [505, 34.0], [534, 36.0], [674, 65.0], [696, 14.0], [747, 25.5], [821, 60.5]]\n"
     ]
    }
   ],
   "source": [
    "sum=[]\n",
    "for i in range(np.array(raw_data).shape[0]):\n",
    "    a=float(raw_data[i][4])+float(raw_data[i][5])+float(raw_data[i][6])+float(raw_data[i][7])+float(raw_data[i][8])+float(raw_data[i][9])+float(raw_data[i][10])+float(raw_data[i][11])+float(raw_data[i][12])+float(raw_data[i][13])+float(raw_data[i][14])+float(raw_data[i][15])\n",
    "    sum.append([raw_data[i][0],a])\n",
    "\n",
    "print(sum)"
   ]
  },
  {
   "cell_type": "code",
   "execution_count": 41,
   "metadata": {},
   "outputs": [
    {
     "ename": "TypeError",
     "evalue": "list indices must be integers or slices, not tuple",
     "output_type": "error",
     "traceback": [
      "\u001b[0;31m---------------------------------------------------------------------------\u001b[0m",
      "\u001b[0;31mTypeError\u001b[0m                                 Traceback (most recent call last)",
      "\u001b[0;32m<ipython-input-41-4c3015a90908>\u001b[0m in \u001b[0;36m<module>\u001b[0;34m\u001b[0m\n\u001b[1;32m      1\u001b[0m \u001b[0mX\u001b[0m\u001b[0;34m=\u001b[0m\u001b[0msum\u001b[0m\u001b[0;34m[\u001b[0m\u001b[0;36m0\u001b[0m\u001b[0;34m]\u001b[0m\u001b[0;34m\u001b[0m\u001b[0;34m\u001b[0m\u001b[0m\n\u001b[0;32m----> 2\u001b[0;31m \u001b[0mY\u001b[0m\u001b[0;34m=\u001b[0m\u001b[0msum\u001b[0m\u001b[0;34m[\u001b[0m\u001b[0;34m:\u001b[0m\u001b[0;34m,\u001b[0m\u001b[0;36m0\u001b[0m\u001b[0;34m]\u001b[0m\u001b[0;34m\u001b[0m\u001b[0;34m\u001b[0m\u001b[0m\n\u001b[0m\u001b[1;32m      3\u001b[0m \u001b[0mfig\u001b[0m \u001b[0;34m=\u001b[0m \u001b[0mplt\u001b[0m\u001b[0;34m.\u001b[0m\u001b[0mfigure\u001b[0m\u001b[0;34m(\u001b[0m\u001b[0;34m)\u001b[0m\u001b[0;34m\u001b[0m\u001b[0;34m\u001b[0m\u001b[0m\n\u001b[1;32m      4\u001b[0m \u001b[0mplt\u001b[0m\u001b[0;34m.\u001b[0m\u001b[0mbar\u001b[0m\u001b[0;34m(\u001b[0m\u001b[0mX\u001b[0m\u001b[0;34m,\u001b[0m\u001b[0mY\u001b[0m\u001b[0;34m,\u001b[0m\u001b[0;36m0.4\u001b[0m\u001b[0;34m,\u001b[0m\u001b[0mcolor\u001b[0m\u001b[0;34m=\u001b[0m\u001b[0;34m\"green\"\u001b[0m\u001b[0;34m)\u001b[0m\u001b[0;34m\u001b[0m\u001b[0;34m\u001b[0m\u001b[0m\n\u001b[1;32m      5\u001b[0m \u001b[0mplt\u001b[0m\u001b[0;34m.\u001b[0m\u001b[0mxlabel\u001b[0m\u001b[0;34m(\u001b[0m\u001b[0;34m\"Emotion\"\u001b[0m\u001b[0;34m)\u001b[0m\u001b[0;34m\u001b[0m\u001b[0;34m\u001b[0m\u001b[0m\n",
      "\u001b[0;31mTypeError\u001b[0m: list indices must be integers or slices, not tuple"
     ]
    }
   ],
   "source": [
    "X=sum[0]\n",
    "Y=sum[:,0]\n",
    "\n",
    "\n",
    "fig = plt.figure()\n",
    "plt.bar(X,Y,0.4,color=\"green\")\n",
    "plt.xlabel(\"Emotion\")\n",
    "plt.ylabel(\"Sum_Score\")\n",
    "plt.title(\"Emotion Bar\"+Paths[i])"
   ]
  },
  {
   "cell_type": "code",
   "execution_count": null,
   "metadata": {},
   "outputs": [],
   "source": []
  }
 ],
 "metadata": {
  "kernelspec": {
   "display_name": "Python 3",
   "language": "python",
   "name": "python3"
  },
  "language_info": {
   "codemirror_mode": {
    "name": "ipython",
    "version": 3
   },
   "file_extension": ".py",
   "mimetype": "text/x-python",
   "name": "python",
   "nbconvert_exporter": "python",
   "pygments_lexer": "ipython3",
   "version": "3.7.3"
  }
 },
 "nbformat": 4,
 "nbformat_minor": 2
}
